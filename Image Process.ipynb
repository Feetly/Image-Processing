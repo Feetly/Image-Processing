{
 "cells": [
  {
   "cell_type": "markdown",
   "metadata": {},
   "source": [
    "# Author : Dhruv Jain\n",
    "# 3. Image Processing and Object Detection using Deep Learning Techniques"
   ]
  },
  {
   "cell_type": "code",
   "execution_count": 33,
   "metadata": {},
   "outputs": [
    {
     "name": "stdout",
     "output_type": "stream",
     "text": [
      "Collecting pip\n",
      "  Using cached pip-20.0.2-py2.py3-none-any.whl (1.4 MB)\n",
      "Installing collected packages: pip\n",
      "  Attempting uninstall: pip\n",
      "    Found existing installation: pip 20.0.2\n",
      "    Uninstalling pip-20.0.2:\n",
      "      Successfully uninstalled pip-20.0.2\n",
      "Successfully installed pip-20.0.2\n",
      "Requirement already satisfied: opencv-contrib-python in c:\\users\\dhruv\\appdata\\roaming\\python\\python38\\site-packages (4.2.0.32)\n",
      "Requirement already satisfied: numpy>=1.17.3 in c:\\program files (x86)\\python38-32\\lib\\site-packages (from opencv-contrib-python) (1.17.4)\n",
      "Requirement already satisfied: glob3 in c:\\users\\dhruv\\appdata\\roaming\\python\\python38\\site-packages (0.0.1)\n"
     ]
    },
    {
     "data": {
      "text/plain": [
       "['D:\\\\Dhruv\\\\Desktop\\\\Projects\\\\3. Image Processing and Object Detection using Deep Learning Techniques',\n",
       " 'D:\\\\Dhruv\\\\Anaconda3\\\\python37.zip',\n",
       " 'D:\\\\Dhruv\\\\Anaconda3\\\\DLLs',\n",
       " 'D:\\\\Dhruv\\\\Anaconda3\\\\lib',\n",
       " 'D:\\\\Dhruv\\\\Anaconda3',\n",
       " '',\n",
       " 'D:\\\\Dhruv\\\\Anaconda3\\\\lib\\\\site-packages',\n",
       " 'D:\\\\Dhruv\\\\Anaconda3\\\\lib\\\\site-packages\\\\win32',\n",
       " 'D:\\\\Dhruv\\\\Anaconda3\\\\lib\\\\site-packages\\\\win32\\\\lib',\n",
       " 'D:\\\\Dhruv\\\\Anaconda3\\\\lib\\\\site-packages\\\\Pythonwin',\n",
       " 'D:\\\\Dhruv\\\\Anaconda3\\\\lib\\\\site-packages\\\\IPython\\\\extensions',\n",
       " 'C:\\\\Users\\\\Dhruv\\\\.ipython']"
      ]
     },
     "execution_count": 33,
     "metadata": {},
     "output_type": "execute_result"
    }
   ],
   "source": [
    "# Installing Dependencies (Project made on Python 3.8.1)\n",
    "!python -m pip install --upgrade --force-reinstall pip --user\n",
    "!pip install opencv-contrib-python --user\n",
    "!pip install glob3 --user"
   ]
  },
  {
   "cell_type": "code",
   "execution_count": 40,
   "metadata": {},
   "outputs": [
    {
     "data": {
      "text/plain": [
       "['D:\\\\Dhruv\\\\Desktop\\\\Projects\\\\3. Image Processing and Object Detection using Deep Learning Techniques',\n",
       " 'D:\\\\Dhruv\\\\Anaconda3\\\\python37.zip',\n",
       " 'D:\\\\Dhruv\\\\Anaconda3\\\\DLLs',\n",
       " 'D:\\\\Dhruv\\\\Anaconda3\\\\lib',\n",
       " 'D:\\\\Dhruv\\\\Anaconda3',\n",
       " '',\n",
       " 'D:\\\\Dhruv\\\\Anaconda3\\\\lib\\\\site-packages',\n",
       " 'D:\\\\Dhruv\\\\Anaconda3\\\\lib\\\\site-packages\\\\win32',\n",
       " 'D:\\\\Dhruv\\\\Anaconda3\\\\lib\\\\site-packages\\\\win32\\\\lib',\n",
       " 'D:\\\\Dhruv\\\\Anaconda3\\\\lib\\\\site-packages\\\\Pythonwin',\n",
       " 'D:\\\\Dhruv\\\\Anaconda3\\\\lib\\\\site-packages\\\\IPython\\\\extensions',\n",
       " 'C:\\\\Users\\\\Dhruv\\\\.ipython',\n",
       " 'c:\\\\users\\\\dhruv\\\\appdata\\\\roaming\\\\python\\\\python38\\\\site-packages',\n",
       " 'c:\\\\users\\\\dhruv\\\\appdata\\\\roaming\\\\python\\\\python38\\\\site-packages',\n",
       " 'c:\\\\program files (x86)\\\\python38-32\\\\lib\\\\site-packages']"
      ]
     },
     "execution_count": 40,
     "metadata": {},
     "output_type": "execute_result"
    }
   ],
   "source": [
    "# Make Sure to add varaible name in Path\n",
    "import sys\n",
    "sys.path.append(os.path.abspath(r'c:\\users\\dhruv\\appdata\\roaming\\python\\python38\\site-packages'))\n",
    "sys.path.append(os.path.abspath(r'c:\\program files (x86)\\python38-32\\lib\\site-packages'))\n",
    "sys.path"
   ]
  },
  {
   "cell_type": "code",
   "execution_count": null,
   "metadata": {},
   "outputs": [],
   "source": [
    "!pip uninstall opencv-contrib-python"
   ]
  },
  {
   "cell_type": "code",
   "execution_count": 43,
   "metadata": {},
   "outputs": [
    {
     "ename": "ModuleNotFoundError",
     "evalue": "No module named 'cv2.cv2'",
     "output_type": "error",
     "traceback": [
      "\u001b[1;31m---------------------------------------------------------------------------\u001b[0m",
      "\u001b[1;31mModuleNotFoundError\u001b[0m                       Traceback (most recent call last)",
      "\u001b[1;32m<ipython-input-43-25a84bdcef6b>\u001b[0m in \u001b[0;36m<module>\u001b[1;34m\u001b[0m\n\u001b[0;32m      1\u001b[0m \u001b[1;31m# Importing Libraries\u001b[0m\u001b[1;33m\u001b[0m\u001b[1;33m\u001b[0m\u001b[1;33m\u001b[0m\u001b[0m\n\u001b[0;32m      2\u001b[0m \u001b[1;32mimport\u001b[0m \u001b[0mglob\u001b[0m\u001b[1;33m\u001b[0m\u001b[1;33m\u001b[0m\u001b[0m\n\u001b[1;32m----> 3\u001b[1;33m \u001b[1;32mimport\u001b[0m \u001b[0mcv2\u001b[0m\u001b[1;33m\u001b[0m\u001b[1;33m\u001b[0m\u001b[0m\n\u001b[0m",
      "\u001b[1;32mc:\\users\\dhruv\\appdata\\roaming\\python\\python38\\site-packages\\cv2\\__init__.py\u001b[0m in \u001b[0;36m<module>\u001b[1;34m\u001b[0m\n\u001b[0;32m      1\u001b[0m \u001b[1;32mimport\u001b[0m \u001b[0mimportlib\u001b[0m\u001b[1;33m\u001b[0m\u001b[1;33m\u001b[0m\u001b[0m\n\u001b[0;32m      2\u001b[0m \u001b[1;33m\u001b[0m\u001b[0m\n\u001b[1;32m----> 3\u001b[1;33m \u001b[1;32mfrom\u001b[0m \u001b[1;33m.\u001b[0m\u001b[0mcv2\u001b[0m \u001b[1;32mimport\u001b[0m \u001b[1;33m*\u001b[0m\u001b[1;33m\u001b[0m\u001b[1;33m\u001b[0m\u001b[0m\n\u001b[0m\u001b[0;32m      4\u001b[0m \u001b[1;32mfrom\u001b[0m \u001b[1;33m.\u001b[0m\u001b[0mdata\u001b[0m \u001b[1;32mimport\u001b[0m \u001b[1;33m*\u001b[0m\u001b[1;33m\u001b[0m\u001b[1;33m\u001b[0m\u001b[0m\n\u001b[0;32m      5\u001b[0m \u001b[1;33m\u001b[0m\u001b[0m\n",
      "\u001b[1;31mModuleNotFoundError\u001b[0m: No module named 'cv2.cv2'"
     ]
    }
   ],
   "source": [
    "# Importing Libraries\n",
    "import glob\n",
    "import cv2"
   ]
  },
  {
   "cell_type": "code",
   "execution_count": null,
   "metadata": {},
   "outputs": [],
   "source": [
    "def view(img, name_of_window=\"\",ns=0,ws=0):\n",
    "    if ws is 1 : cv2.namedWindow(name_of_window, cv2.WINDOW_FULLSCREEN)\n",
    "    elif ws is 2 : cv2.namedWindow(name_of_window, cv2.WND_PROP_FULLSCREEN)\n",
    "    else : cv2.namedWindow(name_of_window, cv2.WINDOW_NORMAL)\n",
    "    cv2.imshow(name_of_window, img)\n",
    "    cv2.waitKey(ns*1000)\n",
    "    cv2.destroyAllWindows()\n",
    "\n",
    "def rgb(img):\n",
    "    return (cv2.cvtColor(img, cv2.COLOR_BGR2RGB),\"RBG Image\")\n",
    "\n",
    "def edge(img,i1=100,i2=100):\n",
    "    return (cv2.Canny(img,i1,i2),\"Edged Image\")\n",
    "\n",
    "def grey(img):\n",
    "    return (cv2.cvtColor(img, cv2.COLOR_BGR2GRAY),\"Grey Image\")\n",
    "\n",
    "def thres(img,t=128,h=255,l=0):\n",
    "    return (cv2.threshold(cv2.cvtColor(img, cv2.COLOR_BGR2GRAY), t, h, l)[1], \"Threshold Image\")\n",
    "\n",
    "def crop(img,y,h,x,w):\n",
    "    return (img[y:y+h, x:x+w],\"Cropped Image\")\n",
    "\n",
    "def scale(img,p):\n",
    "    return (cv2.resize(img, (int(img.shape[1] * p / 100), int(img.shape[0] * p / 100)), interpolation = cv2.INTER_AREA),\"Scaled Image\")\n",
    "    \n",
    "def rotate(img,angle=0):\n",
    "    return (cv2.warpAffine(img, cv2.getRotationMatrix2D((img.shape[1] // 2, img.shape[0] // 2), angle, 1.0), (img.shape[1], img.shape[0])), \"Rotated Image\")\n",
    "\n",
    "def blurr(img,be=50):\n",
    "    return (cv2.GaussianBlur(img, (be, be), w), \"Blurred Image\")\n",
    "\n",
    "def rect(img,tl=(0,0),br=(0,0),c=(0,0,0),th=10):\n",
    "    return (cv2.rectangle(img, tl, br, c, th), \"Rectangled Image\",crop(img,tl[1],br[1]-tl[1],tl[0],br[0]-tl[0]))\n",
    "\n",
    "def line(img,p1=(0,0),p2=(0,0),c=(0,0,0),th=10):\n",
    "    return (cv2.line(img, p1, p2, c, th), \"Lined Image\")\n",
    "\n",
    "def txt(img,txt=\"\",blp=(0,0),font=cv2.FONT_HERSHEY_SIMPLEX,fs=10,c=(0,0,0),th=10):\n",
    "    return (cv2.putText(img, txt, blp,font, fs, c,th),\"Texted Image\")\n",
    "\n",
    "def face(img):\n",
    "    i=1\n",
    "    faces = cv2.CascadeClassifier('haarcascade_frontalface_default.xml').detectMultiScale(cv2.cvtColor(img, cv2.COLOR_BGR2GRAY),scaleFactor= 1.1,minNeighbors= 5,minSize=(10, 10))\n",
    "    for (x, y, w, h) in faces:\n",
    "        c=crop(img,y,h,x,w)\n",
    "        view(c[0],\"Look Carefully?\",3,2)\n",
    "        g = raw_input(\"Do u think just showed image was a Face? (y/n) : \")\n",
    "        if g is \"y\" :\n",
    "            r=rect(img, (x, y), (x+w, y+h), (255, 255, 0), 2)\n",
    "            eyes = cv2.CascadeClassifier('haarcascade_eye.xml').detectMultiScale(cv2.cvtColor(c[0], cv2.COLOR_BGR2GRAY),1.1,3)\n",
    "            for (ex,ey,ew,eh) in eyes:\n",
    "                cpy=c[0]\n",
    "                rect(cpy,(ex,ey),(ex+ew,ey+eh),(0,255,0),2)\n",
    "                view(cpy,\"Look Carefully?\",3,2)\n",
    "                v = raw_input(\"Do u think just showed image was a eye? (y/n) : \")\n",
    "                if v is \"y\" :\n",
    "                    cpy=c[0]\n",
    "                    rect(c[0],(ex,ey),(ex+ew,ey+eh),(0,255,0),1)\n",
    "            cv2.imwrite(\"Cropped_\"+str(i)+\".jpg\", c[0])\n",
    "            i+=1\n",
    "    return r\n",
    "\n",
    "\n",
    "images = [cv2.imread(file) for file in glob.glob(\"path/to/files/*.png\")]\n",
    "img = images[0]\n",
    "\n",
    "#view(img,\"TXT\")\n",
    "#edges(img,100,200)\n",
    "#rgb(img)\n",
    "#grey(img)\n",
    "#thres(img,150,200,10)\n",
    "#crop(img,15,250,150,150)\n",
    "#scale(img,75)\n",
    "#rotate(img,90)\n",
    "#blurr(img,be=50)\n",
    "#line(img,(200,0),(400,200),(0,255,255),3)\n",
    "#txt(img,\"Hello\",(0,300),cv2.FONT_HERSHEY_SIMPLEX,5,(0,255,255),5)\n",
    "#r=rect(img,(200,0),(400,200),(0,255,255),3)\n",
    "#view(r[0],r[1])\n",
    "#view(r[2][0],r[2][1])\n",
    "#f=face(img)\n",
    "#view(f[0],\"Finall\",10,1)\n",
    "#cv2.imwrite(\"Finally.jpg\",f[0])"
   ]
  }
 ],
 "metadata": {
  "kernelspec": {
   "display_name": "Python 3",
   "language": "python",
   "name": "python3"
  },
  "language_info": {
   "codemirror_mode": {
    "name": "ipython",
    "version": 3
   },
   "file_extension": ".py",
   "mimetype": "text/x-python",
   "name": "python",
   "nbconvert_exporter": "python",
   "pygments_lexer": "ipython3",
   "version": "3.7.3"
  }
 },
 "nbformat": 4,
 "nbformat_minor": 2
}
